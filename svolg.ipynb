{
 "cells": [
  {
   "cell_type": "code",
   "execution_count": 7,
   "metadata": {},
   "outputs": [],
   "source": [
    "%reset -f\n",
    "import numpy as np\n",
    "import matplotlib.pyplot as plt\n",
    "\n",
    "# Physical system\n",
    "m = 1 # [kg]\n",
    "k = 1 # [kg s^2]\n",
    "b = 0.03 # [kg/]\n",
    "\n",
    "# Parameters\n",
    "omega  = np.sqrt(k/m)\n",
    "omegap = np.sqrt(omega**2 - gamma**2)\n",
    "gamma  = b/m/2\n",
    "\n",
    "# Plotting\n",
    "N_per = 20  # Periods\n",
    "N = 1000\n",
    "Tend = N_per*omega*2*np.pi\n",
    "t = np.linspace(0, Tend, N)\n",
    "f = np.zeros((1,N))\n",
    "\n",
    "A = 1\n",
    "phi = 0\n",
    "\n",
    "x = A*np.exp(-gamma*t)*np.cos(omega*t + phi)\n",
    "\n"
   ]
  },
  {
   "cell_type": "code",
   "execution_count": null,
   "metadata": {},
   "outputs": [],
   "source": []
  }
 ],
 "metadata": {
  "kernelspec": {
   "display_name": "Python 3",
   "language": "python",
   "name": "python3"
  },
  "language_info": {
   "codemirror_mode": {
    "name": "ipython",
    "version": 3
   },
   "file_extension": ".py",
   "mimetype": "text/x-python",
   "name": "python",
   "nbconvert_exporter": "python",
   "pygments_lexer": "ipython3",
   "version": "3.6.15"
  }
 },
 "nbformat": 4,
 "nbformat_minor": 2
}
